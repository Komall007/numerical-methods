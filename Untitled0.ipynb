{
  "nbformat": 4,
  "nbformat_minor": 0,
  "metadata": {
    "colab": {
      "provenance": [],
      "authorship_tag": "ABX9TyOBUnRjEvieNEhGB/2qutth",
      "include_colab_link": true
    },
    "kernelspec": {
      "name": "python3",
      "display_name": "Python 3"
    },
    "language_info": {
      "name": "python"
    }
  },
  "cells": [
    {
      "cell_type": "markdown",
      "metadata": {
        "id": "view-in-github",
        "colab_type": "text"
      },
      "source": [
        "<a href=\"https://colab.research.google.com/github/Komall007/numerical-methods/blob/main/Untitled0.ipynb\" target=\"_parent\"><img src=\"https://colab.research.google.com/assets/colab-badge.svg\" alt=\"Open In Colab\"/></a>"
      ]
    },
    {
      "cell_type": "markdown",
      "source": [
        "# 🔢 Numerical Methods Solver\n",
        "This project is a **Jupyter Notebook** for solving equations using common **Numerical Methods** like **Bisection**, **Newton-Raphson**, and **Secant**.\n",
        "You simply provide:\n",
        "\n",
        "- An equation (as a Python expression),\n",
        "- A method name,\n",
        "- Interval or initial guess,\n",
        "- And get the root of the equation as output.\n",
        "\n"
      ],
      "metadata": {
        "id": "w5UDackM1KpN"
      }
    },
    {
      "cell_type": "markdown",
      "source": [
        "# **🧠 Concepts Used**\n",
        "\n",
        "1.   Root-finding techniques\n",
        "2.   Convergence criteria\n",
        "3.   Iterative methods\n",
        "4.   Function parsing in Python\n",
        "\n",
        "\n"
      ],
      "metadata": {
        "id": "XEf1FuyV2Voo"
      }
    },
    {
      "cell_type": "code",
      "source": [
        "import sympy as sym\n",
        "from sympy import *\n",
        "x= sym.Symbol('x')\n",
        "import math\n",
        "from sympy import symbols, diff"
      ],
      "metadata": {
        "id": "bdMTUQbB4zv2"
      },
      "execution_count": 29,
      "outputs": []
    },
    {
      "cell_type": "code",
      "execution_count": 17,
      "metadata": {
        "id": "ydYntwso081F"
      },
      "outputs": [],
      "source": [
        "def bisection_method(f,a,b,max_itr=100):\n",
        "  if(f(a)*f(b))> 0:\n",
        "     print(\"no roots for this interval\")\n",
        "     return None\n",
        "  iteration=0\n",
        "  while iteration<max_itr:\n",
        "     c= (a+b)/2\n",
        "     if f(c)== 0:\n",
        "      return c\n",
        "     elif f(a)*f(c)<0:\n",
        "      b=c\n",
        "     else:\n",
        "      a=c\n",
        "     iteration+=0\n",
        "  return c"
      ]
    },
    {
      "cell_type": "code",
      "source": [
        "def secant_method(f,a,b,max_itr=100):\n",
        "  iteration=0\n",
        "  while iteration<max_itr:\n",
        "     c= (a*f(b)-b*f(a))/(f(b)-f(a))\n",
        "     if f(c)== 0:\n",
        "      return c\n",
        "\n",
        "     elif f(a)*f(c)<0:\n",
        "      b=c\n",
        "     else:\n",
        "      a=c\n",
        "     iteration+=0\n",
        "  return c"
      ],
      "metadata": {
        "id": "uabSmJmV6C_S"
      },
      "execution_count": 20,
      "outputs": []
    },
    {
      "cell_type": "code",
      "source": [
        "def regularfalsi_method(f,a,b,max_itr=100):\n",
        "  if(f(a)*f(b)) >=0:\n",
        "     print(\"no roots for this interval\")\n",
        "     return None\n",
        "  iteration=0\n",
        "  while iteration<max_itr:\n",
        "     c= (a*f(b)-b*f(a))/(f(b)-f(a))\n",
        "     if f(c)== 0:\n",
        "      return c\n",
        "     elif f(a)*f(c)<0:\n",
        "      b=c\n",
        "     else:\n",
        "      a=c\n",
        "     iteration+=0\n",
        "  return c"
      ],
      "metadata": {
        "id": "7FT19IRQ6D58"
      },
      "execution_count": 23,
      "outputs": []
    },
    {
      "cell_type": "code",
      "source": [
        "def newton_method(f,a,df,max_itr=100):\n",
        "  iteration=0\n",
        "  while iteration<max_itr:\n",
        "     c= a-(f(a)/df(a))\n",
        "     if f(c)== 0:\n",
        "      return c\n",
        "     else:\n",
        "      a=c\n",
        "  return c"
      ],
      "metadata": {
        "id": "qRVHJsSN6E0u"
      },
      "execution_count": 24,
      "outputs": []
    },
    {
      "cell_type": "code",
      "source": [
        "print(\"choose from following:\\n 1. Bisection Method 2. Secant Method 3. RegularFalsi Method 4. NewtonRaphson Method\")\n",
        "\n",
        "choice= int(input(\"Enter choice from 1 to 4: \"))\n",
        "g= input(\"Enter equation: \")\n",
        "a= float(input(\"Enter starting point of interval ,a: \"))\n",
        "b= float(input(\"Enter ending point of interval ,b: \"))\n",
        "f= sym.lambdify(x,g)\n",
        "dg= diff(g,x)\n",
        "df= sym.lambdify(x,dg)\n",
        "\n",
        "if choice==1:\n",
        "  roots= bisection_method(f,a,b,max_itr=100)\n",
        "  print(f\"approximate root is: {roots}\")\n",
        "\n",
        "\n",
        "if choice==2:\n",
        "  roots=secant_method(f,a,b,max_itr=100)\n",
        "print(\"choose from following:\\n 1. Bisection Method 2. Secant Method 3. RegularFalsi Method 4. NewtonRaphson Method\")\n",
        "\n",
        "choice= int(input(\"Enter choice from 1 to 4: \"))\n",
        "g= input(\"Enter equation: \")\n",
        "f= sym.lambdify(x,g)\n",
        "dg= diff(g,x)\n",
        "df= sym.lambdify(x,dg)\n",
        "a= float(input(\"Enter starting point of interval ,a: \"))\n",
        "b= float(input(\"Enter ending point of interval ,b: \"))\n",
        "\n",
        "if choice==1:\n",
        "  roots= bisection_method(f,a,b,max_itr=100)\n",
        "  print(f\"approximate root is: {roots}\")\n",
        "\n",
        "\n",
        "if choice==2:\n",
        "  roots=secant_method(f,a,b,max_itr=100)\n",
        "  print(f\"approximate root is: {roots}\")\n",
        "\n",
        "if choice==3:\n",
        "  roots= regularfalsi_method(f,a,b,max_itr=100)\n",
        "  print(f\"approximate root is: {roots}\")\n",
        "\n",
        "\n",
        "if choice==4:\n",
        "  roots= newton_method(f,a,df,max_itr=100)\n",
        "  print(f\"approximate root is: {roots}\")\n",
        "\n",
        "\n",
        "if choice==4:\n",
        "  roots= newton_method(f,a,df,max_itr=100)\n",
        "  print(f\"approximate root is: {roots}\")\n",
        "\n",
        "else:\n",
        "  print(\"invalid choice\")\n",
        "\n"
      ],
      "metadata": {
        "colab": {
          "base_uri": "https://localhost:8080/"
        },
        "collapsed": true,
        "id": "nn_5fGZi7uqH",
        "outputId": "8f52e673-dd1f-42de-97a8-b61353b93e0e"
      },
      "execution_count": null,
      "outputs": [
        {
          "name": "stdout",
          "output_type": "stream",
          "text": [
            "choose from following:\n",
            " 1. Bisection Method 2. Secant Method 3. RegularFalsi Method 4. NewtonRaphson Method\n",
            "Enter choice from 1 to 4: 1\n",
            "Enter equation: x**2-2\n",
            "Enter starting point of interval ,a: 2\n",
            "Enter ending point of interval ,b: 4\n",
            "no roots for this interval\n",
            "approximate root is: None\n",
            "choose from following:\n",
            " 1. Bisection Method 2. Secant Method 3. RegularFalsi Method 4. NewtonRaphson Method\n",
            "Enter choice from 1 to 4: 3\n"
          ]
        }
      ]
    }
  ]
}