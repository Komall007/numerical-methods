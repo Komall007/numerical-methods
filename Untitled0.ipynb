{
  "nbformat": 4,
  "nbformat_minor": 0,
  "metadata": {
    "colab": {
      "provenance": [],
      "authorship_tag": "ABX9TyO5q8BNoF6SSFHuapqzT1lP",
      "include_colab_link": true
    },
    "kernelspec": {
      "name": "python3",
      "display_name": "Python 3"
    },
    "language_info": {
      "name": "python"
    }
  },
  "cells": [
    {
      "cell_type": "markdown",
      "metadata": {
        "id": "view-in-github",
        "colab_type": "text"
      },
      "source": [
        "<a href=\"https://colab.research.google.com/github/Komall007/numerical-methods/blob/main/Untitled0.ipynb\" target=\"_parent\"><img src=\"https://colab.research.google.com/assets/colab-badge.svg\" alt=\"Open In Colab\"/></a>"
      ]
    },
    {
      "cell_type": "markdown",
      "source": [
        "# 🔢 Numerical Methods Solver\n",
        "This project is a **Jupyter Notebook** for solving equations using common **Numerical Methods** like **Bisection**, **Newton-Raphson**, and **Secant**.\n",
        "You simply provide:\n",
        "\n",
        "- An equation (as a Python expression),\n",
        "- A method name,\n",
        "- Interval or initial guess,\n",
        "- And get the root of the equation as output.\n",
        "\n"
      ],
      "metadata": {
        "id": "w5UDackM1KpN"
      }
    },
    {
      "cell_type": "markdown",
      "source": [
        "# **🧠 Concepts Used**\n",
        "\n",
        "1.   Root-finding techniques\n",
        "2.   Convergence criteria\n",
        "3.   Iterative methods\n",
        "4.   Function parsing in Python\n",
        "\n",
        "\n"
      ],
      "metadata": {
        "id": "XEf1FuyV2Voo"
      }
    },
    {
      "cell_type": "code",
      "source": [
        "import sympy as sym\n",
        "from sympy import *\n",
        "x= sym.Symbol('x')"
      ],
      "metadata": {
        "id": "bdMTUQbB4zv2"
      },
      "execution_count": 3,
      "outputs": []
    },
    {
      "cell_type": "code",
      "execution_count": 4,
      "metadata": {
        "colab": {
          "base_uri": "https://localhost:8080/",
          "height": 109
        },
        "id": "ydYntwso081F",
        "outputId": "ef5c4225-dae8-4fab-bd11-d699ff3eec2f"
      },
      "outputs": [
        {
          "output_type": "error",
          "ename": "SyntaxError",
          "evalue": "invalid syntax (<ipython-input-4-b9b5dd5af74f>, line 2)",
          "traceback": [
            "\u001b[0;36m  File \u001b[0;32m\"<ipython-input-4-b9b5dd5af74f>\"\u001b[0;36m, line \u001b[0;32m2\u001b[0m\n\u001b[0;31m    if(f(a)*f(b) >=0:\u001b[0m\n\u001b[0m                    ^\u001b[0m\n\u001b[0;31mSyntaxError\u001b[0m\u001b[0;31m:\u001b[0m invalid syntax\n"
          ]
        }
      ],
      "source": [
        "def bisection_method(f,a,b,max_itr=100):\n",
        "  if(f(a)*f(b) >=0:\n",
        "     print(\"no roots for this interval\")\n",
        "     return None\n",
        "  iteration=0\n",
        "  while iteration<max_itr:\n",
        "     c= (a+b)/2\n",
        "     if f(c)== 0:\n",
        "     return c\n",
        "     elif f(a)*f(c)<0\n",
        "     b=c\n",
        "     else:\n",
        "     a=c\n",
        "     iteration+=0\n",
        "  return c"
      ]
    },
    {
      "cell_type": "code",
      "source": [
        "def secant_method(f,a,b,max_itr=100):\n",
        "  iteration=0\n",
        "  while iteration<max_itr:\n",
        "     c= (a*f(b)-b*f(a))/(f(b)-f(a))\n",
        "     if f(c)== 0:\n",
        "     return c\n",
        "\n",
        "     elif f(a)*f(c)<0\n",
        "     b=c\n",
        "     else:\n",
        "     a=c\n",
        "     iteration+=0\n",
        "  return c"
      ],
      "metadata": {
        "colab": {
          "base_uri": "https://localhost:8080/",
          "height": 109
        },
        "id": "uabSmJmV6C_S",
        "outputId": "9356e5bb-eda7-4cf1-baa9-f68dce2c5ad8"
      },
      "execution_count": 5,
      "outputs": [
        {
          "output_type": "error",
          "ename": "IndentationError",
          "evalue": "expected an indented block after 'if' statement on line 5 (<ipython-input-5-18e0d294f01b>, line 6)",
          "traceback": [
            "\u001b[0;36m  File \u001b[0;32m\"<ipython-input-5-18e0d294f01b>\"\u001b[0;36m, line \u001b[0;32m6\u001b[0m\n\u001b[0;31m    return c\u001b[0m\n\u001b[0m    ^\u001b[0m\n\u001b[0;31mIndentationError\u001b[0m\u001b[0;31m:\u001b[0m expected an indented block after 'if' statement on line 5\n"
          ]
        }
      ]
    },
    {
      "cell_type": "code",
      "source": [
        "def regularfalsi_method(f,a,b,max_itr=100):\n",
        "  if(f(a)*f(b) >=0:\n",
        "     print(\"no roots for this interval\")\n",
        "     return None\n",
        "  iteration=0\n",
        "  while iteration<max_itr:\n",
        "     c= (a*f(b)-b*f(a))/(f(b)-f(a))\n",
        "     if f(c)== 0:\n",
        "     return c\n",
        "     elif f(a)*f(c)<0\n",
        "     b=c\n",
        "     else:\n",
        "     a=c\n",
        "     iteration+=0\n",
        "  return c"
      ],
      "metadata": {
        "id": "7FT19IRQ6D58"
      },
      "execution_count": null,
      "outputs": []
    },
    {
      "cell_type": "code",
      "source": [
        "def newton_method(f,a,df,max_itr=100):\n",
        "  iteration=0\n",
        "  while iteration<max_itr:\n",
        "     c= a-(f(a)/df(a))\n",
        "     if f(c)== 0:\n",
        "     return c\n",
        "     else:\n",
        "     a=c\n",
        "  return c"
      ],
      "metadata": {
        "id": "qRVHJsSN6E0u"
      },
      "execution_count": null,
      "outputs": []
    },
    {
      "cell_type": "code",
      "source": [
        "print(\"choose from following:\\n 1. Bisection Method 2. Secant Method 3. RegularFalsi Method 4. NewtonRaphson Method\")\n",
        "\n",
        "choice= int(input(\"Enter choice from 1 to 4: \"))\n",
        "g= input(\"Enter equation: \")\n",
        "f= lambdify(x,g)\n",
        "dg= diff(g,x)\n",
        "df= lamdify(x,dg)\n",
        "a= float(input(\"Enter starting point of interval ,a: \"))\n",
        "b= float(input(\"Enter ending point of interval ,b: \"))\n",
        "\n",
        "if choice==1:\n",
        "  roots= bisection_method(f,a,b,max_itr=100)\n",
        "  print(f\"approximate root is: {roots}\")\n",
        "\n",
        "\n",
        "if choice==2:\n",
        "  roots=secant_method(f,a,b,max_itr=100)\n",
        "  print(f\"approximate root is: {roots}\"\n",
        "\n",
        "if choice==3:\n",
        "  roots= regularfalsi_method(f,a,b,max_itr=100)\n",
        "  print(f\"approximate root is: {roots}\"\n",
        "\n",
        "\n",
        "if choice==4:\n",
        "  roots= newton_method(f,a,df,max_itr=100)\n",
        "  print(f\"approximate root is: {roots}\"\n",
        "\n",
        "\n"
      ],
      "metadata": {
        "colab": {
          "base_uri": "https://localhost:8080/",
          "height": 109
        },
        "id": "nn_5fGZi7uqH",
        "outputId": "a8c93541-2d2d-4862-d329-c6e8369c3dfd"
      },
      "execution_count": 1,
      "outputs": [
        {
          "output_type": "error",
          "ename": "SyntaxError",
          "evalue": "invalid syntax (<ipython-input-1-55b5cb2cddd1>, line 20)",
          "traceback": [
            "\u001b[0;36m  File \u001b[0;32m\"<ipython-input-1-55b5cb2cddd1>\"\u001b[0;36m, line \u001b[0;32m20\u001b[0m\n\u001b[0;31m    if choice==3:\u001b[0m\n\u001b[0m                ^\u001b[0m\n\u001b[0;31mSyntaxError\u001b[0m\u001b[0;31m:\u001b[0m invalid syntax\n"
          ]
        }
      ]
    }
  ]
}